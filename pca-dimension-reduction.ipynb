{
 "cells": [
  {
   "cell_type": "markdown",
   "metadata": {
    "papermill": {
     "duration": 0.021108,
     "end_time": "2021-01-10T14:47:30.309572",
     "exception": false,
     "start_time": "2021-01-10T14:47:30.288464",
     "status": "completed"
    },
    "tags": []
   },
   "source": [
    "In this notebook, we'll take a closer look at the Principal Component Analysis (PCA). PCA is a technique that lets us reduce the number of features in our dataset and perform faster model training and testing.\n",
    "\n",
    "For the purpose of this demonstration, we will use the MNIST dataset. We'll also use a logistic regression model to categorize digits.\n",
    "\n",
    "First, we'll perform the model training without PCA. Then, we'll implement the Principal Component Analysis and finally, we'll compare our version's performance with scikit's implementation."
   ]
  },
  {
   "cell_type": "code",
   "execution_count": 1,
   "metadata": {
    "_cell_guid": "b1076dfc-b9ad-4769-8c92-a6c4dae69d19",
    "_uuid": "8f2839f25d086af736a60e9eeb907d3b93b6e0e5",
    "execution": {
     "iopub.execute_input": "2021-01-10T14:47:30.358231Z",
     "iopub.status.busy": "2021-01-10T14:47:30.357554Z",
     "iopub.status.idle": "2021-01-10T14:47:31.384223Z",
     "shell.execute_reply": "2021-01-10T14:47:31.384946Z"
    },
    "papermill": {
     "duration": 1.055731,
     "end_time": "2021-01-10T14:47:31.385171",
     "exception": false,
     "start_time": "2021-01-10T14:47:30.329440",
     "status": "completed"
    },
    "tags": []
   },
   "outputs": [
    {
     "name": "stdout",
     "output_type": "stream",
     "text": [
      "/kaggle/input/digit-recognizer/sample_submission.csv\n",
      "/kaggle/input/digit-recognizer/train.csv\n",
      "/kaggle/input/digit-recognizer/test.csv\n"
     ]
    }
   ],
   "source": [
    "# This Python 3 environment comes with many helpful analytics libraries installed\n",
    "# It is defined by the kaggle/python Docker image: https://github.com/kaggle/docker-python\n",
    "# For example, here's several helpful packages to load\n",
    "\n",
    "import math\n",
    "import matplotlib.pyplot as plt\n",
    "import numpy as np # linear algebra\n",
    "import pandas as pd # data processing, CSV file I/O (e.g. pd.read_csv)\n",
    "import time\n",
    "\n",
    "from sklearn.base import BaseEstimator, TransformerMixin\n",
    "from sklearn.decomposition import PCA\n",
    "from sklearn.preprocessing import StandardScaler\n",
    "from sklearn.linear_model import LogisticRegression\n",
    "from sklearn.model_selection import train_test_split\n",
    "from sklearn.metrics import accuracy_score\n",
    "\n",
    "# Input data files are available in the read-only \"../input/\" directory\n",
    "# For example, running this (by clicking run or pressing Shift+Enter) will list all files under the input directory\n",
    "\n",
    "import os\n",
    "for dirname, _, filenames in os.walk('/kaggle/input'):\n",
    "    for filename in filenames:\n",
    "        print(os.path.join(dirname, filename))\n",
    "\n",
    "# You can write up to 20GB to the current directory (/kaggle/working/) that gets preserved as output when you create a version using \"Save & Run All\" \n",
    "# You can also write temporary files to /kaggle/temp/, but they won't be saved outside of the current session"
   ]
  },
  {
   "cell_type": "code",
   "execution_count": 2,
   "metadata": {
    "execution": {
     "iopub.execute_input": "2021-01-10T14:47:31.432185Z",
     "iopub.status.busy": "2021-01-10T14:47:31.431208Z",
     "iopub.status.idle": "2021-01-10T14:47:35.695675Z",
     "shell.execute_reply": "2021-01-10T14:47:35.695139Z"
    },
    "papermill": {
     "duration": 4.288102,
     "end_time": "2021-01-10T14:47:35.695788",
     "exception": false,
     "start_time": "2021-01-10T14:47:31.407686",
     "status": "completed"
    },
    "tags": []
   },
   "outputs": [
    {
     "data": {
      "text/html": [
       "<div>\n",
       "<style scoped>\n",
       "    .dataframe tbody tr th:only-of-type {\n",
       "        vertical-align: middle;\n",
       "    }\n",
       "\n",
       "    .dataframe tbody tr th {\n",
       "        vertical-align: top;\n",
       "    }\n",
       "\n",
       "    .dataframe thead th {\n",
       "        text-align: right;\n",
       "    }\n",
       "</style>\n",
       "<table border=\"1\" class=\"dataframe\">\n",
       "  <thead>\n",
       "    <tr style=\"text-align: right;\">\n",
       "      <th></th>\n",
       "      <th>label</th>\n",
       "      <th>pixel0</th>\n",
       "      <th>pixel1</th>\n",
       "      <th>pixel2</th>\n",
       "      <th>pixel3</th>\n",
       "      <th>pixel4</th>\n",
       "      <th>pixel5</th>\n",
       "      <th>pixel6</th>\n",
       "      <th>pixel7</th>\n",
       "      <th>pixel8</th>\n",
       "      <th>...</th>\n",
       "      <th>pixel774</th>\n",
       "      <th>pixel775</th>\n",
       "      <th>pixel776</th>\n",
       "      <th>pixel777</th>\n",
       "      <th>pixel778</th>\n",
       "      <th>pixel779</th>\n",
       "      <th>pixel780</th>\n",
       "      <th>pixel781</th>\n",
       "      <th>pixel782</th>\n",
       "      <th>pixel783</th>\n",
       "    </tr>\n",
       "  </thead>\n",
       "  <tbody>\n",
       "    <tr>\n",
       "      <th>0</th>\n",
       "      <td>1</td>\n",
       "      <td>0</td>\n",
       "      <td>0</td>\n",
       "      <td>0</td>\n",
       "      <td>0</td>\n",
       "      <td>0</td>\n",
       "      <td>0</td>\n",
       "      <td>0</td>\n",
       "      <td>0</td>\n",
       "      <td>0</td>\n",
       "      <td>...</td>\n",
       "      <td>0</td>\n",
       "      <td>0</td>\n",
       "      <td>0</td>\n",
       "      <td>0</td>\n",
       "      <td>0</td>\n",
       "      <td>0</td>\n",
       "      <td>0</td>\n",
       "      <td>0</td>\n",
       "      <td>0</td>\n",
       "      <td>0</td>\n",
       "    </tr>\n",
       "    <tr>\n",
       "      <th>1</th>\n",
       "      <td>0</td>\n",
       "      <td>0</td>\n",
       "      <td>0</td>\n",
       "      <td>0</td>\n",
       "      <td>0</td>\n",
       "      <td>0</td>\n",
       "      <td>0</td>\n",
       "      <td>0</td>\n",
       "      <td>0</td>\n",
       "      <td>0</td>\n",
       "      <td>...</td>\n",
       "      <td>0</td>\n",
       "      <td>0</td>\n",
       "      <td>0</td>\n",
       "      <td>0</td>\n",
       "      <td>0</td>\n",
       "      <td>0</td>\n",
       "      <td>0</td>\n",
       "      <td>0</td>\n",
       "      <td>0</td>\n",
       "      <td>0</td>\n",
       "    </tr>\n",
       "    <tr>\n",
       "      <th>2</th>\n",
       "      <td>1</td>\n",
       "      <td>0</td>\n",
       "      <td>0</td>\n",
       "      <td>0</td>\n",
       "      <td>0</td>\n",
       "      <td>0</td>\n",
       "      <td>0</td>\n",
       "      <td>0</td>\n",
       "      <td>0</td>\n",
       "      <td>0</td>\n",
       "      <td>...</td>\n",
       "      <td>0</td>\n",
       "      <td>0</td>\n",
       "      <td>0</td>\n",
       "      <td>0</td>\n",
       "      <td>0</td>\n",
       "      <td>0</td>\n",
       "      <td>0</td>\n",
       "      <td>0</td>\n",
       "      <td>0</td>\n",
       "      <td>0</td>\n",
       "    </tr>\n",
       "    <tr>\n",
       "      <th>3</th>\n",
       "      <td>4</td>\n",
       "      <td>0</td>\n",
       "      <td>0</td>\n",
       "      <td>0</td>\n",
       "      <td>0</td>\n",
       "      <td>0</td>\n",
       "      <td>0</td>\n",
       "      <td>0</td>\n",
       "      <td>0</td>\n",
       "      <td>0</td>\n",
       "      <td>...</td>\n",
       "      <td>0</td>\n",
       "      <td>0</td>\n",
       "      <td>0</td>\n",
       "      <td>0</td>\n",
       "      <td>0</td>\n",
       "      <td>0</td>\n",
       "      <td>0</td>\n",
       "      <td>0</td>\n",
       "      <td>0</td>\n",
       "      <td>0</td>\n",
       "    </tr>\n",
       "    <tr>\n",
       "      <th>4</th>\n",
       "      <td>0</td>\n",
       "      <td>0</td>\n",
       "      <td>0</td>\n",
       "      <td>0</td>\n",
       "      <td>0</td>\n",
       "      <td>0</td>\n",
       "      <td>0</td>\n",
       "      <td>0</td>\n",
       "      <td>0</td>\n",
       "      <td>0</td>\n",
       "      <td>...</td>\n",
       "      <td>0</td>\n",
       "      <td>0</td>\n",
       "      <td>0</td>\n",
       "      <td>0</td>\n",
       "      <td>0</td>\n",
       "      <td>0</td>\n",
       "      <td>0</td>\n",
       "      <td>0</td>\n",
       "      <td>0</td>\n",
       "      <td>0</td>\n",
       "    </tr>\n",
       "  </tbody>\n",
       "</table>\n",
       "<p>5 rows × 785 columns</p>\n",
       "</div>"
      ],
      "text/plain": [
       "   label  pixel0  pixel1  pixel2  pixel3  pixel4  pixel5  pixel6  pixel7  \\\n",
       "0      1       0       0       0       0       0       0       0       0   \n",
       "1      0       0       0       0       0       0       0       0       0   \n",
       "2      1       0       0       0       0       0       0       0       0   \n",
       "3      4       0       0       0       0       0       0       0       0   \n",
       "4      0       0       0       0       0       0       0       0       0   \n",
       "\n",
       "   pixel8  ...  pixel774  pixel775  pixel776  pixel777  pixel778  pixel779  \\\n",
       "0       0  ...         0         0         0         0         0         0   \n",
       "1       0  ...         0         0         0         0         0         0   \n",
       "2       0  ...         0         0         0         0         0         0   \n",
       "3       0  ...         0         0         0         0         0         0   \n",
       "4       0  ...         0         0         0         0         0         0   \n",
       "\n",
       "   pixel780  pixel781  pixel782  pixel783  \n",
       "0         0         0         0         0  \n",
       "1         0         0         0         0  \n",
       "2         0         0         0         0  \n",
       "3         0         0         0         0  \n",
       "4         0         0         0         0  \n",
       "\n",
       "[5 rows x 785 columns]"
      ]
     },
     "execution_count": 2,
     "metadata": {},
     "output_type": "execute_result"
    }
   ],
   "source": [
    "data = pd.read_csv('../input/digit-recognizer/train.csv')\n",
    "data.head()"
   ]
  },
  {
   "cell_type": "markdown",
   "metadata": {
    "papermill": {
     "duration": 0.021818,
     "end_time": "2021-01-10T14:47:35.739955",
     "exception": false,
     "start_time": "2021-01-10T14:47:35.718137",
     "status": "completed"
    },
    "tags": []
   },
   "source": [
    "First, I will split the data into training and validation sets using scikit's train_test_split function. \n",
    "I use 30% of training data as my validation set."
   ]
  },
  {
   "cell_type": "code",
   "execution_count": 3,
   "metadata": {
    "execution": {
     "iopub.execute_input": "2021-01-10T14:47:35.788440Z",
     "iopub.status.busy": "2021-01-10T14:47:35.787790Z",
     "iopub.status.idle": "2021-01-10T14:47:36.191708Z",
     "shell.execute_reply": "2021-01-10T14:47:36.191075Z"
    },
    "papermill": {
     "duration": 0.430415,
     "end_time": "2021-01-10T14:47:36.191816",
     "exception": false,
     "start_time": "2021-01-10T14:47:35.761401",
     "status": "completed"
    },
    "tags": []
   },
   "outputs": [],
   "source": [
    "labels = data['label']\n",
    "features = data.drop('label', axis=1)\n",
    "\n",
    "train, val, y_train, y_val = train_test_split(features, labels, test_size=0.3, random_state=42)"
   ]
  },
  {
   "cell_type": "markdown",
   "metadata": {
    "papermill": {
     "duration": 0.021351,
     "end_time": "2021-01-10T14:47:36.234563",
     "exception": false,
     "start_time": "2021-01-10T14:47:36.213212",
     "status": "completed"
    },
    "tags": []
   },
   "source": [
    "The data is a set of image of size 28x28 pixels. Each image is represented as a set of pixel colors unfolded into a single row, which gives us 28x28=784 features. \n",
    "\n",
    "Let's look at an example image from the data"
   ]
  },
  {
   "cell_type": "code",
   "execution_count": 4,
   "metadata": {
    "execution": {
     "iopub.execute_input": "2021-01-10T14:47:36.283088Z",
     "iopub.status.busy": "2021-01-10T14:47:36.282481Z",
     "iopub.status.idle": "2021-01-10T14:47:36.470279Z",
     "shell.execute_reply": "2021-01-10T14:47:36.469801Z"
    },
    "papermill": {
     "duration": 0.214385,
     "end_time": "2021-01-10T14:47:36.470382",
     "exception": false,
     "start_time": "2021-01-10T14:47:36.255997",
     "status": "completed"
    },
    "tags": []
   },
   "outputs": [
    {
     "data": {
      "text/plain": [
       "<matplotlib.image.AxesImage at 0x7f2b1e2dd5d0>"
      ]
     },
     "execution_count": 4,
     "metadata": {},
     "output_type": "execute_result"
    },
    {
     "data": {
      "image/png": "[encoded data removed]",
      "text/plain": [
       "<Figure size 432x288 with 1 Axes>"
      ]
     },
     "metadata": {
      "needs_background": "light"
     },
     "output_type": "display_data"
    }
   ],
   "source": [
    "image_pixels = train.iloc[0].values.reshape(28,28)\n",
    "plt.imshow(image_pixels)"
   ]
  },
  {
   "cell_type": "markdown",
   "metadata": {
    "papermill": {
     "duration": 0.021788,
     "end_time": "2021-01-10T14:47:36.514138",
     "exception": false,
     "start_time": "2021-01-10T14:47:36.492350",
     "status": "completed"
    },
    "tags": []
   },
   "source": [
    "# Performing the model training without PCA\n",
    "\n",
    "First, we will see how logistic regression performs without Principal Component Analysis. We also won't be using standarization for now."
   ]
  },
  {
   "cell_type": "code",
   "execution_count": 5,
   "metadata": {
    "execution": {
     "iopub.execute_input": "2021-01-10T14:47:36.565059Z",
     "iopub.status.busy": "2021-01-10T14:47:36.564369Z",
     "iopub.status.idle": "2021-01-10T14:47:44.531934Z",
     "shell.execute_reply": "2021-01-10T14:47:44.532484Z"
    },
    "papermill": {
     "duration": 7.996659,
     "end_time": "2021-01-10T14:47:44.532645",
     "exception": false,
     "start_time": "2021-01-10T14:47:36.535986",
     "status": "completed"
    },
    "tags": []
   },
   "outputs": [
    {
     "name": "stdout",
     "output_type": "stream",
     "text": [
      "Liczba składowych: 784. Czas: 7.91s. Accuracy:0.92.\n"
     ]
    },
    {
     "name": "stderr",
     "output_type": "stream",
     "text": [
      "/opt/conda/lib/python3.7/site-packages/sklearn/linear_model/_logistic.py:764: ConvergenceWarning: lbfgs failed to converge (status=1):\n",
      "STOP: TOTAL NO. of ITERATIONS REACHED LIMIT.\n",
      "\n",
      "Increase the number of iterations (max_iter) or scale the data as shown in:\n",
      "    https://scikit-learn.org/stable/modules/preprocessing.html\n",
      "Please also refer to the documentation for alternative solver options:\n",
      "    https://scikit-learn.org/stable/modules/linear_model.html#logistic-regression\n",
      "  extra_warning_msg=_LOGISTIC_SOLVER_CONVERGENCE_MSG)\n"
     ]
    }
   ],
   "source": [
    "X = train.values\n",
    "X_val = val.values\n",
    "\n",
    "model = LogisticRegression()\n",
    "\n",
    "start = time.time()\n",
    "model.fit(X, y_train)\n",
    "stop = time.time()\n",
    "\n",
    "predictions = model.predict(X_val)\n",
    "accuracy = accuracy_score(y_val, predictions)\n",
    "print(f'Liczba składowych: {X.shape[1]}. Czas: {stop - start:.2f}s. Accuracy:{accuracy:.2f}.')"
   ]
  },
  {
   "cell_type": "markdown",
   "metadata": {
    "papermill": {
     "duration": 0.024094,
     "end_time": "2021-01-10T14:47:44.580448",
     "exception": false,
     "start_time": "2021-01-10T14:47:44.556354",
     "status": "completed"
    },
    "tags": []
   },
   "source": [
    "The model performed 100 iterations in 8 seconds. It's not much in case of this particular dataset, but imagine having  more features. This could take much, much longer. That is why we use PCA."
   ]
  },
  {
   "cell_type": "markdown",
   "metadata": {
    "papermill": {
     "duration": 0.024013,
     "end_time": "2021-01-10T14:47:44.628945",
     "exception": false,
     "start_time": "2021-01-10T14:47:44.604932",
     "status": "completed"
    },
    "tags": []
   },
   "source": [
    "# Preprocessing the data\n",
    "\n",
    "784 features is a bit much, so we're going to use PCA (Principal Component Analysis) to reduce the dimensionality of our data. This will be our own implementation, which we'll compare later to the scikit's version."
   ]
  },
  {
   "cell_type": "markdown",
   "metadata": {
    "papermill": {
     "duration": 0.02435,
     "end_time": "2021-01-10T14:47:44.676738",
     "exception": false,
     "start_time": "2021-01-10T14:47:44.652388",
     "status": "completed"
    },
    "tags": []
   },
   "source": [
    "1. To use PCA, we have to perform standarization of the data first. To make things more interesting, instead of using scikit's StandardScaler, we'll create and use our own implementation"
   ]
  },
  {
   "cell_type": "code",
   "execution_count": 6,
   "metadata": {
    "execution": {
     "iopub.execute_input": "2021-01-10T14:47:44.734979Z",
     "iopub.status.busy": "2021-01-10T14:47:44.734076Z",
     "iopub.status.idle": "2021-01-10T14:47:44.736827Z",
     "shell.execute_reply": "2021-01-10T14:47:44.737385Z"
    },
    "papermill": {
     "duration": 0.036804,
     "end_time": "2021-01-10T14:47:44.737532",
     "exception": false,
     "start_time": "2021-01-10T14:47:44.700728",
     "status": "completed"
    },
    "tags": []
   },
   "outputs": [],
   "source": [
    "class CustomStandardScaler(BaseEstimator, TransformerMixin):\n",
    "    def __init__(self, mean=0, std=1):\n",
    "        self.mean = mean\n",
    "        self.std = std\n",
    "    def fit(self, X, y=None):\n",
    "        '''\n",
    "        Calculates the mean and std of each column of X\n",
    "        and assigns it to instance attributes.\n",
    "        For this transformer, we'll only use the X attribute\n",
    "        \n",
    "        X - for simplicity, we'll assume it is a numpy's ndarray\n",
    "        '''\n",
    "        self.mean = X.mean(axis=0)\n",
    "        self.std = np.std(X, axis=0)\n",
    "        # if standard deviation equals 0, we want to change it to 1\n",
    "        # so it doesn't break our scaler\n",
    "        self.std[self.std == 0] = 1\n",
    "        return self\n",
    "    def transform(self, X, y=None):\n",
    "        '''\n",
    "        Performs the standarization of X\n",
    "        using the parameters set in fit method.\n",
    "        \n",
    "        X - for simplicity, we'll assume it is a numpy's ndarray\n",
    "        '''\n",
    "        return (X - self.mean) / self.std"
   ]
  },
  {
   "cell_type": "code",
   "execution_count": 7,
   "metadata": {
    "execution": {
     "iopub.execute_input": "2021-01-10T14:47:44.788531Z",
     "iopub.status.busy": "2021-01-10T14:47:44.787914Z",
     "iopub.status.idle": "2021-01-10T14:47:45.126868Z",
     "shell.execute_reply": "2021-01-10T14:47:45.127340Z"
    },
    "papermill": {
     "duration": 0.366285,
     "end_time": "2021-01-10T14:47:45.127533",
     "exception": false,
     "start_time": "2021-01-10T14:47:44.761248",
     "status": "completed"
    },
    "tags": []
   },
   "outputs": [],
   "source": [
    "scaler = CustomStandardScaler()\n",
    "\n",
    "X = train.values\n",
    "X = scaler.fit_transform(X)"
   ]
  },
  {
   "cell_type": "markdown",
   "metadata": {
    "papermill": {
     "duration": 0.024795,
     "end_time": "2021-01-10T14:47:45.177354",
     "exception": false,
     "start_time": "2021-01-10T14:47:45.152559",
     "status": "completed"
    },
    "tags": []
   },
   "source": [
    "2. Next, we calculate covariance matrix, which defines how correlated the features are with each other."
   ]
  },
  {
   "cell_type": "code",
   "execution_count": 8,
   "metadata": {
    "execution": {
     "iopub.execute_input": "2021-01-10T14:47:45.230420Z",
     "iopub.status.busy": "2021-01-10T14:47:45.229713Z",
     "iopub.status.idle": "2021-01-10T14:47:45.535959Z",
     "shell.execute_reply": "2021-01-10T14:47:45.535319Z"
    },
    "papermill": {
     "duration": 0.333621,
     "end_time": "2021-01-10T14:47:45.536064",
     "exception": false,
     "start_time": "2021-01-10T14:47:45.202443",
     "status": "completed"
    },
    "tags": []
   },
   "outputs": [
    {
     "data": {
      "text/plain": [
       "array([[0., 0., 0., ..., 0., 0., 0.],\n",
       "       [0., 0., 0., ..., 0., 0., 0.],\n",
       "       [0., 0., 0., ..., 0., 0., 0.],\n",
       "       ...,\n",
       "       [0., 0., 0., ..., 0., 0., 0.],\n",
       "       [0., 0., 0., ..., 0., 0., 0.],\n",
       "       [0., 0., 0., ..., 0., 0., 0.]])"
      ]
     },
     "execution_count": 8,
     "metadata": {},
     "output_type": "execute_result"
    }
   ],
   "source": [
    "m = X.shape[0]\n",
    "covariance_matrix = 1/m * X.T.dot(X)\n",
    "covariance_matrix"
   ]
  },
  {
   "cell_type": "markdown",
   "metadata": {
    "papermill": {
     "duration": 0.024487,
     "end_time": "2021-01-10T14:47:45.586019",
     "exception": false,
     "start_time": "2021-01-10T14:47:45.561532",
     "status": "completed"
    },
    "tags": []
   },
   "source": [
    "3. We perform SVD (Singular Value Decomposition) of the covariance matrix."
   ]
  },
  {
   "cell_type": "code",
   "execution_count": 9,
   "metadata": {
    "execution": {
     "iopub.execute_input": "2021-01-10T14:47:45.643039Z",
     "iopub.status.busy": "2021-01-10T14:47:45.641980Z",
     "iopub.status.idle": "2021-01-10T14:47:45.878709Z",
     "shell.execute_reply": "2021-01-10T14:47:45.877781Z"
    },
    "papermill": {
     "duration": 0.266936,
     "end_time": "2021-01-10T14:47:45.878863",
     "exception": false,
     "start_time": "2021-01-10T14:47:45.611927",
     "status": "completed"
    },
    "tags": []
   },
   "outputs": [],
   "source": [
    "U, S, V = np.linalg.svd(covariance_matrix)"
   ]
  },
  {
   "cell_type": "markdown",
   "metadata": {
    "papermill": {
     "duration": 0.042059,
     "end_time": "2021-01-10T14:47:45.959311",
     "exception": false,
     "start_time": "2021-01-10T14:47:45.917252",
     "status": "completed"
    },
    "tags": []
   },
   "source": [
    "# Training the model\n",
    "\n",
    "Now we will train the model using first k computed features. What should the value of k be? We don't know that yet, so we're going to try different values and evaluate the models on the validation set. We will choose k with the highest accuracy.\n",
    "\n",
    "We will also check, how much variance was retained using the S matrix from cell above"
   ]
  },
  {
   "cell_type": "markdown",
   "metadata": {
    "papermill": {
     "duration": 0.030989,
     "end_time": "2021-01-10T14:47:46.026467",
     "exception": false,
     "start_time": "2021-01-10T14:47:45.995478",
     "status": "completed"
    },
    "tags": []
   },
   "source": [
    "Now we will use matrix S to see, how much variance do we retain depending on the value of k.\n",
    "\n",
    "The explained variance tells us, how much variance of the data is described by each principal component.\n",
    "When we sum the first k elements of the explained variance list and divide it by sum of all elements, we get a percentage of variation retained within first k elements."
   ]
  },
  {
   "cell_type": "code",
   "execution_count": 10,
   "metadata": {
    "execution": {
     "iopub.execute_input": "2021-01-10T14:47:46.134850Z",
     "iopub.status.busy": "2021-01-10T14:47:46.118728Z",
     "iopub.status.idle": "2021-01-10T14:47:46.335644Z",
     "shell.execute_reply": "2021-01-10T14:47:46.334861Z"
    },
    "papermill": {
     "duration": 0.27488,
     "end_time": "2021-01-10T14:47:46.335766",
     "exception": false,
     "start_time": "2021-01-10T14:47:46.060886",
     "status": "completed"
    },
    "tags": []
   },
   "outputs": [],
   "source": [
    "variance_explained = []\n",
    "for eigen_value in S:\n",
    "    variance_explained.append((eigen_value/sum(S))*100)\n",
    "        \n",
    "cumulative_variance_explained = np.cumsum(variance_explained)"
   ]
  },
  {
   "cell_type": "markdown",
   "metadata": {
    "papermill": {
     "duration": 0.02439,
     "end_time": "2021-01-10T14:47:46.385766",
     "exception": false,
     "start_time": "2021-01-10T14:47:46.361376",
     "status": "completed"
    },
    "tags": []
   },
   "source": [
    "We can also plot this cumulative sums as a function of k values"
   ]
  },
  {
   "cell_type": "code",
   "execution_count": 11,
   "metadata": {
    "execution": {
     "iopub.execute_input": "2021-01-10T14:47:46.450075Z",
     "iopub.status.busy": "2021-01-10T14:47:46.448326Z",
     "iopub.status.idle": "2021-01-10T14:47:46.585389Z",
     "shell.execute_reply": "2021-01-10T14:47:46.584764Z"
    },
    "papermill": {
     "duration": 0.174467,
     "end_time": "2021-01-10T14:47:46.585515",
     "exception": false,
     "start_time": "2021-01-10T14:47:46.411048",
     "status": "completed"
    },
    "tags": []
   },
   "outputs": [
    {
     "data": {
      "image/png": "[encoded data removed]",
      "text/plain": [
       "<Figure size 432x288 with 1 Axes>"
      ]
     },
     "metadata": {
      "needs_background": "light"
     },
     "output_type": "display_data"
    }
   ],
   "source": [
    "plt.plot(range(1, len(cumulative_variance_explained) + 1), cumulative_variance_explained)\n",
    "plt.xlabel(\"Number of components\")\n",
    "plt.ylabel(\"Cumulative explained variance [%]\")\n",
    "plt.show()"
   ]
  },
  {
   "cell_type": "markdown",
   "metadata": {
    "papermill": {
     "duration": 0.025273,
     "end_time": "2021-01-10T14:47:46.638194",
     "exception": false,
     "start_time": "2021-01-10T14:47:46.612921",
     "status": "completed"
    },
    "tags": []
   },
   "source": [
    "As we can see, the more principal components we use, the more variance of our data we keep."
   ]
  },
  {
   "cell_type": "code",
   "execution_count": 12,
   "metadata": {
    "execution": {
     "iopub.execute_input": "2021-01-10T14:47:46.696075Z",
     "iopub.status.busy": "2021-01-10T14:47:46.695336Z",
     "iopub.status.idle": "2021-01-10T14:47:46.757353Z",
     "shell.execute_reply": "2021-01-10T14:47:46.756730Z"
    },
    "papermill": {
     "duration": 0.093223,
     "end_time": "2021-01-10T14:47:46.757476",
     "exception": false,
     "start_time": "2021-01-10T14:47:46.664253",
     "status": "completed"
    },
    "tags": []
   },
   "outputs": [],
   "source": [
    "X_val = val.values\n",
    "X_val = scaler.transform(X_val)"
   ]
  },
  {
   "cell_type": "code",
   "execution_count": 13,
   "metadata": {
    "execution": {
     "iopub.execute_input": "2021-01-10T14:47:46.816590Z",
     "iopub.status.busy": "2021-01-10T14:47:46.815912Z",
     "iopub.status.idle": "2021-01-10T14:48:16.526802Z",
     "shell.execute_reply": "2021-01-10T14:48:16.525410Z"
    },
    "papermill": {
     "duration": 29.744191,
     "end_time": "2021-01-10T14:48:16.526954",
     "exception": false,
     "start_time": "2021-01-10T14:47:46.782763",
     "status": "completed"
    },
    "tags": []
   },
   "outputs": [
    {
     "name": "stdout",
     "output_type": "stream",
     "text": [
      "Liczba składowych: 1. Czas: 1.55s. Accuracy:0.30. Zachowana wariancja: 5.85%.\n"
     ]
    },
    {
     "name": "stderr",
     "output_type": "stream",
     "text": [
      "/opt/conda/lib/python3.7/site-packages/sklearn/linear_model/_logistic.py:764: ConvergenceWarning: lbfgs failed to converge (status=1):\n",
      "STOP: TOTAL NO. of ITERATIONS REACHED LIMIT.\n",
      "\n",
      "Increase the number of iterations (max_iter) or scale the data as shown in:\n",
      "    https://scikit-learn.org/stable/modules/preprocessing.html\n",
      "Please also refer to the documentation for alternative solver options:\n",
      "    https://scikit-learn.org/stable/modules/linear_model.html#logistic-regression\n",
      "  extra_warning_msg=_LOGISTIC_SOLVER_CONVERGENCE_MSG)\n"
     ]
    },
    {
     "name": "stdout",
     "output_type": "stream",
     "text": [
      "Liczba składowych: 151. Czas: 2.97s. Accuracy:0.92. Zachowana wariancja: 82.16%.\n"
     ]
    },
    {
     "name": "stderr",
     "output_type": "stream",
     "text": [
      "/opt/conda/lib/python3.7/site-packages/sklearn/linear_model/_logistic.py:764: ConvergenceWarning: lbfgs failed to converge (status=1):\n",
      "STOP: TOTAL NO. of ITERATIONS REACHED LIMIT.\n",
      "\n",
      "Increase the number of iterations (max_iter) or scale the data as shown in:\n",
      "    https://scikit-learn.org/stable/modules/preprocessing.html\n",
      "Please also refer to the documentation for alternative solver options:\n",
      "    https://scikit-learn.org/stable/modules/linear_model.html#logistic-regression\n",
      "  extra_warning_msg=_LOGISTIC_SOLVER_CONVERGENCE_MSG)\n"
     ]
    },
    {
     "name": "stdout",
     "output_type": "stream",
     "text": [
      "Liczba składowych: 301. Czas: 4.12s. Accuracy:0.92. Zachowana wariancja: 94.63%.\n"
     ]
    },
    {
     "name": "stderr",
     "output_type": "stream",
     "text": [
      "/opt/conda/lib/python3.7/site-packages/sklearn/linear_model/_logistic.py:764: ConvergenceWarning: lbfgs failed to converge (status=1):\n",
      "STOP: TOTAL NO. of ITERATIONS REACHED LIMIT.\n",
      "\n",
      "Increase the number of iterations (max_iter) or scale the data as shown in:\n",
      "    https://scikit-learn.org/stable/modules/preprocessing.html\n",
      "Please also refer to the documentation for alternative solver options:\n",
      "    https://scikit-learn.org/stable/modules/linear_model.html#logistic-regression\n",
      "  extra_warning_msg=_LOGISTIC_SOLVER_CONVERGENCE_MSG)\n"
     ]
    },
    {
     "name": "stdout",
     "output_type": "stream",
     "text": [
      "Liczba składowych: 451. Czas: 5.03s. Accuracy:0.91. Zachowana wariancja: 98.18%.\n"
     ]
    },
    {
     "name": "stderr",
     "output_type": "stream",
     "text": [
      "/opt/conda/lib/python3.7/site-packages/sklearn/linear_model/_logistic.py:764: ConvergenceWarning: lbfgs failed to converge (status=1):\n",
      "STOP: TOTAL NO. of ITERATIONS REACHED LIMIT.\n",
      "\n",
      "Increase the number of iterations (max_iter) or scale the data as shown in:\n",
      "    https://scikit-learn.org/stable/modules/preprocessing.html\n",
      "Please also refer to the documentation for alternative solver options:\n",
      "    https://scikit-learn.org/stable/modules/linear_model.html#logistic-regression\n",
      "  extra_warning_msg=_LOGISTIC_SOLVER_CONVERGENCE_MSG)\n"
     ]
    },
    {
     "name": "stdout",
     "output_type": "stream",
     "text": [
      "Liczba składowych: 601. Czas: 6.01s. Accuracy:0.91. Zachowana wariancja: 99.60%.\n",
      "Liczba składowych: 751. Czas: 7.19s. Accuracy:0.91. Zachowana wariancja: 100.00%.\n"
     ]
    },
    {
     "name": "stderr",
     "output_type": "stream",
     "text": [
      "/opt/conda/lib/python3.7/site-packages/sklearn/linear_model/_logistic.py:764: ConvergenceWarning: lbfgs failed to converge (status=1):\n",
      "STOP: TOTAL NO. of ITERATIONS REACHED LIMIT.\n",
      "\n",
      "Increase the number of iterations (max_iter) or scale the data as shown in:\n",
      "    https://scikit-learn.org/stable/modules/preprocessing.html\n",
      "Please also refer to the documentation for alternative solver options:\n",
      "    https://scikit-learn.org/stable/modules/linear_model.html#logistic-regression\n",
      "  extra_warning_msg=_LOGISTIC_SOLVER_CONVERGENCE_MSG)\n"
     ]
    }
   ],
   "source": [
    "for k in range(1, 784, 150):\n",
    "    U_reduced = U[:,0:k]\n",
    "    \n",
    "    X_train_reduced = X.dot(U_reduced)\n",
    "    y_train\n",
    "    X_val_reduced = X_val.dot(U_reduced)\n",
    "    y_val    \n",
    "    \n",
    "    # training with time measurements\n",
    "    model = LogisticRegression()\n",
    "    start = time.time()\n",
    "    model.fit(X_train_reduced, y_train)\n",
    "    stop = time.time()\n",
    "    \n",
    "    # retained variance\n",
    "    retained_variance = cumulative_variance_explained[k - 1]\n",
    "\n",
    "    predictions = model.predict(X_val_reduced)\n",
    "    accuracy = accuracy_score(y_val, predictions)\n",
    "    print(f'Liczba składowych: {k}. Czas: {stop - start:.2f}s. Accuracy:{accuracy:.2f}. Zachowana wariancja: {retained_variance:.2f}%.')"
   ]
  },
  {
   "cell_type": "markdown",
   "metadata": {
    "papermill": {
     "duration": 0.029332,
     "end_time": "2021-01-10T14:48:16.586926",
     "exception": false,
     "start_time": "2021-01-10T14:48:16.557594",
     "status": "completed"
    },
    "tags": []
   },
   "source": [
    "We'd like to retain at least about 95%, so judging by the above results, a reasonable k to choose would be around 350.\n",
    "Let's train the model with this parameter then, check the results and run it on the test set"
   ]
  },
  {
   "cell_type": "code",
   "execution_count": 14,
   "metadata": {
    "execution": {
     "iopub.execute_input": "2021-01-10T14:48:16.674779Z",
     "iopub.status.busy": "2021-01-10T14:48:16.673678Z",
     "iopub.status.idle": "2021-01-10T14:48:48.319941Z",
     "shell.execute_reply": "2021-01-10T14:48:48.320481Z"
    },
    "papermill": {
     "duration": 31.703259,
     "end_time": "2021-01-10T14:48:48.320618",
     "exception": false,
     "start_time": "2021-01-10T14:48:16.617359",
     "status": "completed"
    },
    "tags": []
   },
   "outputs": [
    {
     "name": "stdout",
     "output_type": "stream",
     "text": [
      "Liczba składowych: 350. Czas: 31.23s. Accuracy:0.92.\n"
     ]
    }
   ],
   "source": [
    "best_k = 350\n",
    "\n",
    "U_reduced = U[:,0:best_k]\n",
    "    \n",
    "X_train_reduced = X.dot(U_reduced)\n",
    "y_train\n",
    "X_val_reduced = X_val.dot(U_reduced)\n",
    "y_val \n",
    "\n",
    "# training with the best parameters\n",
    "model = LogisticRegression(max_iter=800)\n",
    "start = time.time()\n",
    "model.fit(X_train_reduced, y_train)\n",
    "stop = time.time()\n",
    "\n",
    "predictions = model.predict(X_val_reduced)\n",
    "accuracy = accuracy_score(y_val, predictions)\n",
    "print(f'Liczba składowych: {best_k}. Czas: {stop - start:.2f}s. Accuracy:{accuracy:.2f}.')"
   ]
  },
  {
   "cell_type": "code",
   "execution_count": 15,
   "metadata": {
    "execution": {
     "iopub.execute_input": "2021-01-10T14:48:48.392162Z",
     "iopub.status.busy": "2021-01-10T14:48:48.391373Z",
     "iopub.status.idle": "2021-01-10T14:48:51.296583Z",
     "shell.execute_reply": "2021-01-10T14:48:51.297205Z"
    },
    "papermill": {
     "duration": 2.946515,
     "end_time": "2021-01-10T14:48:51.297382",
     "exception": false,
     "start_time": "2021-01-10T14:48:48.350867",
     "status": "completed"
    },
    "tags": []
   },
   "outputs": [],
   "source": [
    "X_test = pd.read_csv('../input/digit-recognizer/test.csv').values\n",
    "X_test = scaler.transform(X_test)\n",
    "\n",
    "Z_test = X_test.dot(U_reduced)\n",
    "X_test_reduced = Z_test\n",
    "    \n",
    "test_predictions = model.predict(X_test_reduced)"
   ]
  },
  {
   "cell_type": "markdown",
   "metadata": {
    "papermill": {
     "duration": 0.030955,
     "end_time": "2021-01-10T14:48:51.362946",
     "exception": false,
     "start_time": "2021-01-10T14:48:51.331991",
     "status": "completed"
    },
    "tags": []
   },
   "source": [
    "# Using the sklearn's PCA\n",
    "\n",
    "Now, we will compare the results of our model with the scikit's implementation. We'll use the best_k value as the number of components"
   ]
  },
  {
   "cell_type": "code",
   "execution_count": 16,
   "metadata": {
    "execution": {
     "iopub.execute_input": "2021-01-10T14:48:51.433460Z",
     "iopub.status.busy": "2021-01-10T14:48:51.432170Z",
     "iopub.status.idle": "2021-01-10T14:48:52.035692Z",
     "shell.execute_reply": "2021-01-10T14:48:52.034949Z"
    },
    "papermill": {
     "duration": 0.641502,
     "end_time": "2021-01-10T14:48:52.035809",
     "exception": false,
     "start_time": "2021-01-10T14:48:51.394307",
     "status": "completed"
    },
    "tags": []
   },
   "outputs": [],
   "source": [
    "scaler = StandardScaler()\n",
    "\n",
    "X = train.values\n",
    "X = scaler.fit_transform(X)\n",
    "\n",
    "X_val = val.values\n",
    "X_val = scaler.transform(X_val)"
   ]
  },
  {
   "cell_type": "code",
   "execution_count": 17,
   "metadata": {
    "execution": {
     "iopub.execute_input": "2021-01-10T14:48:52.102753Z",
     "iopub.status.busy": "2021-01-10T14:48:52.101748Z",
     "iopub.status.idle": "2021-01-10T14:48:57.773703Z",
     "shell.execute_reply": "2021-01-10T14:48:57.773073Z"
    },
    "papermill": {
     "duration": 5.706794,
     "end_time": "2021-01-10T14:48:57.773817",
     "exception": false,
     "start_time": "2021-01-10T14:48:52.067023",
     "status": "completed"
    },
    "tags": []
   },
   "outputs": [],
   "source": [
    "pca = PCA(n_components=best_k)\n",
    "X_train_reduced = pca.fit_transform(X)\n",
    "X_val_reduced = pca.transform(X_val)"
   ]
  },
  {
   "cell_type": "code",
   "execution_count": 18,
   "metadata": {
    "execution": {
     "iopub.execute_input": "2021-01-10T14:48:57.846784Z",
     "iopub.status.busy": "2021-01-10T14:48:57.845364Z",
     "iopub.status.idle": "2021-01-10T14:49:27.704395Z",
     "shell.execute_reply": "2021-01-10T14:49:27.703636Z"
    },
    "papermill": {
     "duration": 29.896594,
     "end_time": "2021-01-10T14:49:27.704638",
     "exception": false,
     "start_time": "2021-01-10T14:48:57.808044",
     "status": "completed"
    },
    "tags": []
   },
   "outputs": [
    {
     "name": "stdout",
     "output_type": "stream",
     "text": [
      "Liczba składowych: 350. Czas: 29.84s. Accuracy:0.92.\n"
     ]
    }
   ],
   "source": [
    "# training with time measurements\n",
    "model = LogisticRegression(max_iter=800)\n",
    "start = time.time()\n",
    "model.fit(X_train_reduced, y_train)\n",
    "stop = time.time()\n",
    "\n",
    "predictions = model.predict(X_val_reduced)\n",
    "accuracy = accuracy_score(y_val, predictions)\n",
    "print(f'Liczba składowych: {best_k}. Czas: {stop - start:.2f}s. Accuracy:{accuracy:.2f}.')"
   ]
  },
  {
   "cell_type": "markdown",
   "metadata": {
    "papermill": {
     "duration": 0.031599,
     "end_time": "2021-01-10T14:49:27.770759",
     "exception": false,
     "start_time": "2021-01-10T14:49:27.739160",
     "status": "completed"
    },
    "tags": []
   },
   "source": [
    "Although times may differ a bit due to system's resource allocation, we can see that the scikit's PCA gives us the same results as our implementation."
   ]
  },
  {
   "cell_type": "markdown",
   "metadata": {
    "papermill": {
     "duration": 0.031141,
     "end_time": "2021-01-10T14:49:27.834125",
     "exception": false,
     "start_time": "2021-01-10T14:49:27.802984",
     "status": "completed"
    },
    "tags": []
   },
   "source": [
    "Lastly, we can upload the results to the leaderboards, because why not..."
   ]
  },
  {
   "cell_type": "code",
   "execution_count": 19,
   "metadata": {
    "execution": {
     "iopub.execute_input": "2021-01-10T14:49:27.903723Z",
     "iopub.status.busy": "2021-01-10T14:49:27.903053Z",
     "iopub.status.idle": "2021-01-10T14:49:28.303183Z",
     "shell.execute_reply": "2021-01-10T14:49:28.303707Z"
    },
    "papermill": {
     "duration": 0.438116,
     "end_time": "2021-01-10T14:49:28.303844",
     "exception": false,
     "start_time": "2021-01-10T14:49:27.865728",
     "status": "completed"
    },
    "tags": []
   },
   "outputs": [],
   "source": [
    "image_id = range(1, len(test_predictions) + 1)\n",
    "my_submission = pd.DataFrame({'ImageId': image_id, 'Label': test_predictions})\n",
    "\n",
    "my_submission.to_csv('submission.csv', index=False)"
   ]
  },
  {
   "cell_type": "markdown",
   "metadata": {
    "papermill": {
     "duration": 0.031328,
     "end_time": "2021-01-10T14:49:28.366653",
     "exception": false,
     "start_time": "2021-01-10T14:49:28.335325",
     "status": "completed"
    },
    "tags": []
   },
   "source": [
    "# Bibliography\n",
    "\n",
    "- [Andrew Ng's Machine Learning Course](https://www.coursera.org/learn/machine-learning)\n",
    "- [scikit's PCA documentation](https://scikit-learn.org/stable/modules/generated/sklearn.decomposition.PCA.html)\n",
    "- [PCA explanation](https://towardsdatascience.com/a-one-stop-shop-for-principal-component-analysis-5582fb7e0a9c)\n",
    "\n",
    "I also used materials from lectures at my university."
   ]
  }
 ],
 "metadata": {
  "kernelspec": {
   "display_name": "Python 3",
   "language": "python",
   "name": "python3"
  },
  "language_info": {
   "codemirror_mode": {
    "name": "ipython",
    "version": 3
   },
   "file_extension": ".py",
   "mimetype": "text/x-python",
   "name": "python",
   "nbconvert_exporter": "python",
   "pygments_lexer": "ipython3",
   "version": "3.7.6"
  },
  "papermill": {
   "duration": 122.633779,
   "end_time": "2021-01-10T14:49:28.504820",
   "environment_variables": {},
   "exception": null,
   "input_path": "__notebook__.ipynb",
   "output_path": "__notebook__.ipynb",
   "parameters": {},
   "start_time": "2021-01-10T14:47:25.871041",
   "version": "2.1.0"
  }
 },
 "nbformat": 4,
 "nbformat_minor": 4
}
